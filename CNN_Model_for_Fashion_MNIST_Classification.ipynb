{
  "nbformat": 4,
  "nbformat_minor": 0,
  "metadata": {
    "colab": {
      "provenance": [],
      "gpuType": "T4"
    },
    "kernelspec": {
      "name": "python3",
      "display_name": "Python 3"
    },
    "language_info": {
      "name": "python"
    },
    "accelerator": "GPU"
  },
  "cells": [
    {
      "cell_type": "code",
      "execution_count": 76,
      "metadata": {
        "id": "oKZdIy3_VFMD"
      },
      "outputs": [],
      "source": [
        "import pandas as pd\n",
        "from sklearn.model_selection import train_test_split\n",
        "import torch\n",
        "import torch.nn as nn\n",
        "import torch.optim as optim\n",
        "from torch.utils.data import DataLoader, Dataset\n",
        "import matplotlib.pyplot as plt"
      ]
    },
    {
      "cell_type": "markdown",
      "source": [
        "This script sets up a PyTorch-based machine learning pipeline using a custom dataset, integrating data loading, model building, and training utilities. It combines pandas for data handling, scikit-learn for splitting, and matplotlib for visualizations."
      ],
      "metadata": {
        "id": "x3NGBu2Y3ZE2"
      }
    },
    {
      "cell_type": "markdown",
      "source": [
        "torch.manual_seed(42) sets the random seed for PyTorch's random number generator to ensure reproducibility in experiments. By using the same seed, results from random operations (e.g., initialization, data shuffling) can be consistently reproduced across runs."
      ],
      "metadata": {
        "id": "poq5mroq3kwx"
      }
    },
    {
      "cell_type": "code",
      "source": [
        "torch.manual_seed(42)"
      ],
      "metadata": {
        "colab": {
          "base_uri": "https://localhost:8080/"
        },
        "id": "OxlNel6Ifu2k",
        "outputId": "49758ed1-8159-426b-f555-eb733c7ea410"
      },
      "execution_count": 77,
      "outputs": [
        {
          "output_type": "execute_result",
          "data": {
            "text/plain": [
              "<torch._C.Generator at 0x7a3f7d68d7d0>"
            ]
          },
          "metadata": {},
          "execution_count": 77
        }
      ]
    },
    {
      "cell_type": "markdown",
      "source": [
        "This code checks if a CUDA-enabled GPU is available for PyTorch operations. If available, it sets the device to 'cuda', otherwise it defaults to 'cpu'. The print statement then outputs the current device being used for computation."
      ],
      "metadata": {
        "id": "9Atx3icZ3qxX"
      }
    },
    {
      "cell_type": "code",
      "source": [
        "device=torch.device('cuda' if torch.cuda.is_available() else 'cpu')\n",
        "print(f'the device is :{device}')"
      ],
      "metadata": {
        "colab": {
          "base_uri": "https://localhost:8080/"
        },
        "id": "vCjbLhIQf8F-",
        "outputId": "4b0727f6-adf9-43e1-e7dc-afb55d54bab3"
      },
      "execution_count": 78,
      "outputs": [
        {
          "output_type": "stream",
          "name": "stdout",
          "text": [
            "the device is :cuda\n"
          ]
        }
      ]
    },
    {
      "cell_type": "markdown",
      "source": [
        "The code snippet reads a CSV file (fashion-mnist_train.csv) into a Pandas DataFrame and then displays the first five rows using df.head(). This is typically used to inspect the structure of the dataset, showing columns and sample data."
      ],
      "metadata": {
        "id": "fLa-BjFq3xHW"
      }
    },
    {
      "cell_type": "code",
      "source": [
        "df=pd.read_csv('/content/fashion-mnist_train.csv')\n",
        "df.head()"
      ],
      "metadata": {
        "colab": {
          "base_uri": "https://localhost:8080/",
          "height": 255
        },
        "id": "lucjtSQmzyco",
        "outputId": "58898d11-67c7-4c62-ccd6-ca781d8bcfc8"
      },
      "execution_count": 79,
      "outputs": [
        {
          "output_type": "execute_result",
          "data": {
            "text/plain": [
              "   label  pixel1  pixel2  pixel3  pixel4  pixel5  pixel6  pixel7  pixel8  \\\n",
              "0      2       0       0       0       0       0       0       0       0   \n",
              "1      9       0       0       0       0       0       0       0       0   \n",
              "2      6       0       0       0       0       0       0       0       5   \n",
              "3      0       0       0       0       1       2       0       0       0   \n",
              "4      3       0       0       0       0       0       0       0       0   \n",
              "\n",
              "   pixel9  ...  pixel775  pixel776  pixel777  pixel778  pixel779  pixel780  \\\n",
              "0       0  ...         0         0         0         0         0         0   \n",
              "1       0  ...         0         0         0         0         0         0   \n",
              "2       0  ...         0         0         0        30        43         0   \n",
              "3       0  ...         3         0         0         0         0         1   \n",
              "4       0  ...         0         0         0         0         0         0   \n",
              "\n",
              "   pixel781  pixel782  pixel783  pixel784  \n",
              "0         0         0         0         0  \n",
              "1         0         0         0         0  \n",
              "2         0         0         0         0  \n",
              "3         0         0         0         0  \n",
              "4         0         0         0         0  \n",
              "\n",
              "[5 rows x 785 columns]"
            ],
            "text/html": [
              "\n",
              "  <div id=\"df-aa061515-99ab-4737-af12-30d089b1ca0e\" class=\"colab-df-container\">\n",
              "    <div>\n",
              "<style scoped>\n",
              "    .dataframe tbody tr th:only-of-type {\n",
              "        vertical-align: middle;\n",
              "    }\n",
              "\n",
              "    .dataframe tbody tr th {\n",
              "        vertical-align: top;\n",
              "    }\n",
              "\n",
              "    .dataframe thead th {\n",
              "        text-align: right;\n",
              "    }\n",
              "</style>\n",
              "<table border=\"1\" class=\"dataframe\">\n",
              "  <thead>\n",
              "    <tr style=\"text-align: right;\">\n",
              "      <th></th>\n",
              "      <th>label</th>\n",
              "      <th>pixel1</th>\n",
              "      <th>pixel2</th>\n",
              "      <th>pixel3</th>\n",
              "      <th>pixel4</th>\n",
              "      <th>pixel5</th>\n",
              "      <th>pixel6</th>\n",
              "      <th>pixel7</th>\n",
              "      <th>pixel8</th>\n",
              "      <th>pixel9</th>\n",
              "      <th>...</th>\n",
              "      <th>pixel775</th>\n",
              "      <th>pixel776</th>\n",
              "      <th>pixel777</th>\n",
              "      <th>pixel778</th>\n",
              "      <th>pixel779</th>\n",
              "      <th>pixel780</th>\n",
              "      <th>pixel781</th>\n",
              "      <th>pixel782</th>\n",
              "      <th>pixel783</th>\n",
              "      <th>pixel784</th>\n",
              "    </tr>\n",
              "  </thead>\n",
              "  <tbody>\n",
              "    <tr>\n",
              "      <th>0</th>\n",
              "      <td>2</td>\n",
              "      <td>0</td>\n",
              "      <td>0</td>\n",
              "      <td>0</td>\n",
              "      <td>0</td>\n",
              "      <td>0</td>\n",
              "      <td>0</td>\n",
              "      <td>0</td>\n",
              "      <td>0</td>\n",
              "      <td>0</td>\n",
              "      <td>...</td>\n",
              "      <td>0</td>\n",
              "      <td>0</td>\n",
              "      <td>0</td>\n",
              "      <td>0</td>\n",
              "      <td>0</td>\n",
              "      <td>0</td>\n",
              "      <td>0</td>\n",
              "      <td>0</td>\n",
              "      <td>0</td>\n",
              "      <td>0</td>\n",
              "    </tr>\n",
              "    <tr>\n",
              "      <th>1</th>\n",
              "      <td>9</td>\n",
              "      <td>0</td>\n",
              "      <td>0</td>\n",
              "      <td>0</td>\n",
              "      <td>0</td>\n",
              "      <td>0</td>\n",
              "      <td>0</td>\n",
              "      <td>0</td>\n",
              "      <td>0</td>\n",
              "      <td>0</td>\n",
              "      <td>...</td>\n",
              "      <td>0</td>\n",
              "      <td>0</td>\n",
              "      <td>0</td>\n",
              "      <td>0</td>\n",
              "      <td>0</td>\n",
              "      <td>0</td>\n",
              "      <td>0</td>\n",
              "      <td>0</td>\n",
              "      <td>0</td>\n",
              "      <td>0</td>\n",
              "    </tr>\n",
              "    <tr>\n",
              "      <th>2</th>\n",
              "      <td>6</td>\n",
              "      <td>0</td>\n",
              "      <td>0</td>\n",
              "      <td>0</td>\n",
              "      <td>0</td>\n",
              "      <td>0</td>\n",
              "      <td>0</td>\n",
              "      <td>0</td>\n",
              "      <td>5</td>\n",
              "      <td>0</td>\n",
              "      <td>...</td>\n",
              "      <td>0</td>\n",
              "      <td>0</td>\n",
              "      <td>0</td>\n",
              "      <td>30</td>\n",
              "      <td>43</td>\n",
              "      <td>0</td>\n",
              "      <td>0</td>\n",
              "      <td>0</td>\n",
              "      <td>0</td>\n",
              "      <td>0</td>\n",
              "    </tr>\n",
              "    <tr>\n",
              "      <th>3</th>\n",
              "      <td>0</td>\n",
              "      <td>0</td>\n",
              "      <td>0</td>\n",
              "      <td>0</td>\n",
              "      <td>1</td>\n",
              "      <td>2</td>\n",
              "      <td>0</td>\n",
              "      <td>0</td>\n",
              "      <td>0</td>\n",
              "      <td>0</td>\n",
              "      <td>...</td>\n",
              "      <td>3</td>\n",
              "      <td>0</td>\n",
              "      <td>0</td>\n",
              "      <td>0</td>\n",
              "      <td>0</td>\n",
              "      <td>1</td>\n",
              "      <td>0</td>\n",
              "      <td>0</td>\n",
              "      <td>0</td>\n",
              "      <td>0</td>\n",
              "    </tr>\n",
              "    <tr>\n",
              "      <th>4</th>\n",
              "      <td>3</td>\n",
              "      <td>0</td>\n",
              "      <td>0</td>\n",
              "      <td>0</td>\n",
              "      <td>0</td>\n",
              "      <td>0</td>\n",
              "      <td>0</td>\n",
              "      <td>0</td>\n",
              "      <td>0</td>\n",
              "      <td>0</td>\n",
              "      <td>...</td>\n",
              "      <td>0</td>\n",
              "      <td>0</td>\n",
              "      <td>0</td>\n",
              "      <td>0</td>\n",
              "      <td>0</td>\n",
              "      <td>0</td>\n",
              "      <td>0</td>\n",
              "      <td>0</td>\n",
              "      <td>0</td>\n",
              "      <td>0</td>\n",
              "    </tr>\n",
              "  </tbody>\n",
              "</table>\n",
              "<p>5 rows × 785 columns</p>\n",
              "</div>\n",
              "    <div class=\"colab-df-buttons\">\n",
              "\n",
              "  <div class=\"colab-df-container\">\n",
              "    <button class=\"colab-df-convert\" onclick=\"convertToInteractive('df-aa061515-99ab-4737-af12-30d089b1ca0e')\"\n",
              "            title=\"Convert this dataframe to an interactive table.\"\n",
              "            style=\"display:none;\">\n",
              "\n",
              "  <svg xmlns=\"http://www.w3.org/2000/svg\" height=\"24px\" viewBox=\"0 -960 960 960\">\n",
              "    <path d=\"M120-120v-720h720v720H120Zm60-500h600v-160H180v160Zm220 220h160v-160H400v160Zm0 220h160v-160H400v160ZM180-400h160v-160H180v160Zm440 0h160v-160H620v160ZM180-180h160v-160H180v160Zm440 0h160v-160H620v160Z\"/>\n",
              "  </svg>\n",
              "    </button>\n",
              "\n",
              "  <style>\n",
              "    .colab-df-container {\n",
              "      display:flex;\n",
              "      gap: 12px;\n",
              "    }\n",
              "\n",
              "    .colab-df-convert {\n",
              "      background-color: #E8F0FE;\n",
              "      border: none;\n",
              "      border-radius: 50%;\n",
              "      cursor: pointer;\n",
              "      display: none;\n",
              "      fill: #1967D2;\n",
              "      height: 32px;\n",
              "      padding: 0 0 0 0;\n",
              "      width: 32px;\n",
              "    }\n",
              "\n",
              "    .colab-df-convert:hover {\n",
              "      background-color: #E2EBFA;\n",
              "      box-shadow: 0px 1px 2px rgba(60, 64, 67, 0.3), 0px 1px 3px 1px rgba(60, 64, 67, 0.15);\n",
              "      fill: #174EA6;\n",
              "    }\n",
              "\n",
              "    .colab-df-buttons div {\n",
              "      margin-bottom: 4px;\n",
              "    }\n",
              "\n",
              "    [theme=dark] .colab-df-convert {\n",
              "      background-color: #3B4455;\n",
              "      fill: #D2E3FC;\n",
              "    }\n",
              "\n",
              "    [theme=dark] .colab-df-convert:hover {\n",
              "      background-color: #434B5C;\n",
              "      box-shadow: 0px 1px 3px 1px rgba(0, 0, 0, 0.15);\n",
              "      filter: drop-shadow(0px 1px 2px rgba(0, 0, 0, 0.3));\n",
              "      fill: #FFFFFF;\n",
              "    }\n",
              "  </style>\n",
              "\n",
              "    <script>\n",
              "      const buttonEl =\n",
              "        document.querySelector('#df-aa061515-99ab-4737-af12-30d089b1ca0e button.colab-df-convert');\n",
              "      buttonEl.style.display =\n",
              "        google.colab.kernel.accessAllowed ? 'block' : 'none';\n",
              "\n",
              "      async function convertToInteractive(key) {\n",
              "        const element = document.querySelector('#df-aa061515-99ab-4737-af12-30d089b1ca0e');\n",
              "        const dataTable =\n",
              "          await google.colab.kernel.invokeFunction('convertToInteractive',\n",
              "                                                    [key], {});\n",
              "        if (!dataTable) return;\n",
              "\n",
              "        const docLinkHtml = 'Like what you see? Visit the ' +\n",
              "          '<a target=\"_blank\" href=https://colab.research.google.com/notebooks/data_table.ipynb>data table notebook</a>'\n",
              "          + ' to learn more about interactive tables.';\n",
              "        element.innerHTML = '';\n",
              "        dataTable['output_type'] = 'display_data';\n",
              "        await google.colab.output.renderOutput(dataTable, element);\n",
              "        const docLink = document.createElement('div');\n",
              "        docLink.innerHTML = docLinkHtml;\n",
              "        element.appendChild(docLink);\n",
              "      }\n",
              "    </script>\n",
              "  </div>\n",
              "\n",
              "\n",
              "<div id=\"df-0a89d0f4-a102-4ff3-b29b-43945bc61eed\">\n",
              "  <button class=\"colab-df-quickchart\" onclick=\"quickchart('df-0a89d0f4-a102-4ff3-b29b-43945bc61eed')\"\n",
              "            title=\"Suggest charts\"\n",
              "            style=\"display:none;\">\n",
              "\n",
              "<svg xmlns=\"http://www.w3.org/2000/svg\" height=\"24px\"viewBox=\"0 0 24 24\"\n",
              "     width=\"24px\">\n",
              "    <g>\n",
              "        <path d=\"M19 3H5c-1.1 0-2 .9-2 2v14c0 1.1.9 2 2 2h14c1.1 0 2-.9 2-2V5c0-1.1-.9-2-2-2zM9 17H7v-7h2v7zm4 0h-2V7h2v10zm4 0h-2v-4h2v4z\"/>\n",
              "    </g>\n",
              "</svg>\n",
              "  </button>\n",
              "\n",
              "<style>\n",
              "  .colab-df-quickchart {\n",
              "      --bg-color: #E8F0FE;\n",
              "      --fill-color: #1967D2;\n",
              "      --hover-bg-color: #E2EBFA;\n",
              "      --hover-fill-color: #174EA6;\n",
              "      --disabled-fill-color: #AAA;\n",
              "      --disabled-bg-color: #DDD;\n",
              "  }\n",
              "\n",
              "  [theme=dark] .colab-df-quickchart {\n",
              "      --bg-color: #3B4455;\n",
              "      --fill-color: #D2E3FC;\n",
              "      --hover-bg-color: #434B5C;\n",
              "      --hover-fill-color: #FFFFFF;\n",
              "      --disabled-bg-color: #3B4455;\n",
              "      --disabled-fill-color: #666;\n",
              "  }\n",
              "\n",
              "  .colab-df-quickchart {\n",
              "    background-color: var(--bg-color);\n",
              "    border: none;\n",
              "    border-radius: 50%;\n",
              "    cursor: pointer;\n",
              "    display: none;\n",
              "    fill: var(--fill-color);\n",
              "    height: 32px;\n",
              "    padding: 0;\n",
              "    width: 32px;\n",
              "  }\n",
              "\n",
              "  .colab-df-quickchart:hover {\n",
              "    background-color: var(--hover-bg-color);\n",
              "    box-shadow: 0 1px 2px rgba(60, 64, 67, 0.3), 0 1px 3px 1px rgba(60, 64, 67, 0.15);\n",
              "    fill: var(--button-hover-fill-color);\n",
              "  }\n",
              "\n",
              "  .colab-df-quickchart-complete:disabled,\n",
              "  .colab-df-quickchart-complete:disabled:hover {\n",
              "    background-color: var(--disabled-bg-color);\n",
              "    fill: var(--disabled-fill-color);\n",
              "    box-shadow: none;\n",
              "  }\n",
              "\n",
              "  .colab-df-spinner {\n",
              "    border: 2px solid var(--fill-color);\n",
              "    border-color: transparent;\n",
              "    border-bottom-color: var(--fill-color);\n",
              "    animation:\n",
              "      spin 1s steps(1) infinite;\n",
              "  }\n",
              "\n",
              "  @keyframes spin {\n",
              "    0% {\n",
              "      border-color: transparent;\n",
              "      border-bottom-color: var(--fill-color);\n",
              "      border-left-color: var(--fill-color);\n",
              "    }\n",
              "    20% {\n",
              "      border-color: transparent;\n",
              "      border-left-color: var(--fill-color);\n",
              "      border-top-color: var(--fill-color);\n",
              "    }\n",
              "    30% {\n",
              "      border-color: transparent;\n",
              "      border-left-color: var(--fill-color);\n",
              "      border-top-color: var(--fill-color);\n",
              "      border-right-color: var(--fill-color);\n",
              "    }\n",
              "    40% {\n",
              "      border-color: transparent;\n",
              "      border-right-color: var(--fill-color);\n",
              "      border-top-color: var(--fill-color);\n",
              "    }\n",
              "    60% {\n",
              "      border-color: transparent;\n",
              "      border-right-color: var(--fill-color);\n",
              "    }\n",
              "    80% {\n",
              "      border-color: transparent;\n",
              "      border-right-color: var(--fill-color);\n",
              "      border-bottom-color: var(--fill-color);\n",
              "    }\n",
              "    90% {\n",
              "      border-color: transparent;\n",
              "      border-bottom-color: var(--fill-color);\n",
              "    }\n",
              "  }\n",
              "</style>\n",
              "\n",
              "  <script>\n",
              "    async function quickchart(key) {\n",
              "      const quickchartButtonEl =\n",
              "        document.querySelector('#' + key + ' button');\n",
              "      quickchartButtonEl.disabled = true;  // To prevent multiple clicks.\n",
              "      quickchartButtonEl.classList.add('colab-df-spinner');\n",
              "      try {\n",
              "        const charts = await google.colab.kernel.invokeFunction(\n",
              "            'suggestCharts', [key], {});\n",
              "      } catch (error) {\n",
              "        console.error('Error during call to suggestCharts:', error);\n",
              "      }\n",
              "      quickchartButtonEl.classList.remove('colab-df-spinner');\n",
              "      quickchartButtonEl.classList.add('colab-df-quickchart-complete');\n",
              "    }\n",
              "    (() => {\n",
              "      let quickchartButtonEl =\n",
              "        document.querySelector('#df-0a89d0f4-a102-4ff3-b29b-43945bc61eed button');\n",
              "      quickchartButtonEl.style.display =\n",
              "        google.colab.kernel.accessAllowed ? 'block' : 'none';\n",
              "    })();\n",
              "  </script>\n",
              "</div>\n",
              "\n",
              "    </div>\n",
              "  </div>\n"
            ],
            "application/vnd.google.colaboratory.intrinsic+json": {
              "type": "dataframe",
              "variable_name": "df"
            }
          },
          "metadata": {},
          "execution_count": 79
        }
      ]
    },
    {
      "cell_type": "markdown",
      "source": [
        "This code creates a 4x4 grid of images from the Fashion MNIST dataset, displaying the first 16 images with their corresponding labels as titles. It reshapes each image into 28x28 pixels and removes the axis for a cleaner visualization.\n"
      ],
      "metadata": {
        "id": "fUjgVa-835Yv"
      }
    },
    {
      "cell_type": "code",
      "source": [
        "fig, axes=plt.subplots(4,4,figsize=(10,10))\n",
        "fig.suptitle('First 16 images', fontsize=16)\n",
        "for i, ax in enumerate(axes.flat):\n",
        "  img=df.iloc[i, 1:].values.reshape(28,28)\n",
        "  ax.imshow(img)\n",
        "  ax.axis('off')\n",
        "  ax.set_title(f'Labels: {df.iloc[i,0]}')\n",
        "  plt.tight_layout(rect=[0,0,1,0.96])\n",
        "plt.show()"
      ],
      "metadata": {
        "colab": {
          "base_uri": "https://localhost:8080/",
          "height": 1000
        },
        "id": "Cm3nKOOa3bGh",
        "outputId": "f3c792bd-c6ca-4819-d394-49ad905f9dcc"
      },
      "execution_count": 80,
      "outputs": [
        {
          "output_type": "display_data",
          "data": {
            "text/plain": [
              "<Figure size 1000x1000 with 16 Axes>"
            ],
            "image/png": "[encoded data removed]"
          },
          "metadata": {}
        }
      ]
    },
    {
      "cell_type": "markdown",
      "source": [
        "This code extracts the feature data (pixel values) and labels (target values) from the Fashion MNIST dataset. The features are stored in x, which includes all columns except the first (representing image pixels), and the labels are stored in y, which includes the first column (representing the class of each image)."
      ],
      "metadata": {
        "id": "xE6g0h8S4sEp"
      }
    },
    {
      "cell_type": "code",
      "source": [
        "x=df.iloc[:,1:].values\n",
        "y=df.iloc[:, 0].values"
      ],
      "metadata": {
        "id": "uBZ89HUMlm-Z"
      },
      "execution_count": 81,
      "outputs": []
    },
    {
      "cell_type": "code",
      "source": [
        "x.shape"
      ],
      "metadata": {
        "colab": {
          "base_uri": "https://localhost:8080/"
        },
        "id": "dnJCi-o-lnqV",
        "outputId": "ae9ce0b7-12c4-4709-df69-e9eba21937f7"
      },
      "execution_count": 82,
      "outputs": [
        {
          "output_type": "execute_result",
          "data": {
            "text/plain": [
              "(60000, 784)"
            ]
          },
          "metadata": {},
          "execution_count": 82
        }
      ]
    },
    {
      "cell_type": "code",
      "source": [
        "y.shape"
      ],
      "metadata": {
        "colab": {
          "base_uri": "https://localhost:8080/"
        },
        "id": "1RXZ7HtGlqFX",
        "outputId": "048e19e0-2011-4b0c-8dba-1730291dbe04"
      },
      "execution_count": 83,
      "outputs": [
        {
          "output_type": "execute_result",
          "data": {
            "text/plain": [
              "(60000,)"
            ]
          },
          "metadata": {},
          "execution_count": 83
        }
      ]
    },
    {
      "cell_type": "markdown",
      "source": [
        "This code splits the feature data (x) and labels (y) into training and testing sets, with 80% of the data for training and 20% for testing. It ensures reproducibility of the split using a fixed random_state value (42)."
      ],
      "metadata": {
        "id": "72aWFtwU40RX"
      }
    },
    {
      "cell_type": "code",
      "source": [
        "x_train, x_test, y_train, y_test=train_test_split(x,y, test_size=0.2, random_state=42)"
      ],
      "metadata": {
        "id": "SYaLchOslsH9"
      },
      "execution_count": 84,
      "outputs": []
    },
    {
      "cell_type": "code",
      "source": [
        "x_train.shape"
      ],
      "metadata": {
        "colab": {
          "base_uri": "https://localhost:8080/"
        },
        "id": "SMxK-m0xlwId",
        "outputId": "d6624a2b-7b8e-4ef6-ca61-0f778eec62dd"
      },
      "execution_count": 85,
      "outputs": [
        {
          "output_type": "execute_result",
          "data": {
            "text/plain": [
              "(48000, 784)"
            ]
          },
          "metadata": {},
          "execution_count": 85
        }
      ]
    },
    {
      "cell_type": "code",
      "source": [
        "y_test.shape"
      ],
      "metadata": {
        "colab": {
          "base_uri": "https://localhost:8080/"
        },
        "id": "UbT6nGXXl0IE",
        "outputId": "d93b21d2-841d-47d2-cc63-eb27c78c6923"
      },
      "execution_count": 86,
      "outputs": [
        {
          "output_type": "execute_result",
          "data": {
            "text/plain": [
              "(12000,)"
            ]
          },
          "metadata": {},
          "execution_count": 86
        }
      ]
    },
    {
      "cell_type": "code",
      "source": [
        "y_train.shape"
      ],
      "metadata": {
        "colab": {
          "base_uri": "https://localhost:8080/"
        },
        "id": "ldWiul1Il4G5",
        "outputId": "d4e7311a-b5ab-4503-a041-bedef505e709"
      },
      "execution_count": 87,
      "outputs": [
        {
          "output_type": "execute_result",
          "data": {
            "text/plain": [
              "(48000,)"
            ]
          },
          "metadata": {},
          "execution_count": 87
        }
      ]
    },
    {
      "cell_type": "code",
      "source": [
        "y_test.shape"
      ],
      "metadata": {
        "colab": {
          "base_uri": "https://localhost:8080/"
        },
        "id": "hWVOzkVOl-Vv",
        "outputId": "73c3a763-78ba-4170-c960-9650fa61dee6"
      },
      "execution_count": 88,
      "outputs": [
        {
          "output_type": "execute_result",
          "data": {
            "text/plain": [
              "(12000,)"
            ]
          },
          "metadata": {},
          "execution_count": 88
        }
      ]
    },
    {
      "cell_type": "markdown",
      "source": [
        "This code normalizes the pixel values of the training and testing datasets by dividing them by 255.0. This scales the pixel values from the range [0, 255] to [0, 1], which helps improve the performance and convergence of machine learning models."
      ],
      "metadata": {
        "id": "a81Qj-vY45FT"
      }
    },
    {
      "cell_type": "code",
      "source": [
        "x_train=x_train/255.0\n",
        "x_test=x_test/255.0"
      ],
      "metadata": {
        "id": "4EGeZ9dvmAVf"
      },
      "execution_count": 89,
      "outputs": []
    },
    {
      "cell_type": "markdown",
      "source": [
        "The CustomDataset class is a custom PyTorch dataset that converts feature data into a tensor suitable for CNN input and stores the corresponding labels. It defines methods to get the length of the dataset (__len__) and to retrieve a sample (image and label) by index (__getitem__). This class enables efficient loading and preprocessing of data for training in PyTorch."
      ],
      "metadata": {
        "id": "LPt-GGUD5AGA"
      }
    },
    {
      "cell_type": "code",
      "source": [
        "class CustomDataset(Dataset):\n",
        "  def __init__(self, features, labels):\n",
        "    self.features=torch.tensor(features, dtype=torch.float32).reshape(-1,1,28,28)\n",
        "    self.labels=torch.tensor(labels, dtype=torch.long)\n",
        "  def __len__(self):\n",
        "    return len(self.features)\n",
        "  def __getitem__(self, index):\n",
        "    return self.features[index], self.labels[index]"
      ],
      "metadata": {
        "id": "LlmABBYAmLGc"
      },
      "execution_count": 90,
      "outputs": []
    },
    {
      "cell_type": "markdown",
      "source": [
        "This line creates an instance of the CustomDataset class for the training data, where x_train contains the feature data (images) and y_train contains the corresponding labels. The train_dataset will now hold the preprocessed training data in the format suitable for PyTorch model training."
      ],
      "metadata": {
        "id": "U8zQvnX85ExZ"
      }
    },
    {
      "cell_type": "code",
      "source": [
        "train_dataset=CustomDataset(x_train, y_train)"
      ],
      "metadata": {
        "id": "QqzB1iOQmSku"
      },
      "execution_count": 91,
      "outputs": []
    },
    {
      "cell_type": "code",
      "source": [
        "len(train_dataset)"
      ],
      "metadata": {
        "colab": {
          "base_uri": "https://localhost:8080/"
        },
        "id": "f8DJR4lfmWRE",
        "outputId": "86778e93-8b0a-41f9-e1e9-0e8f57247c03"
      },
      "execution_count": 92,
      "outputs": [
        {
          "output_type": "execute_result",
          "data": {
            "text/plain": [
              "48000"
            ]
          },
          "metadata": {},
          "execution_count": 92
        }
      ]
    },
    {
      "cell_type": "markdown",
      "source": [
        "This line creates an instance of the CustomDataset class for the testing data, where x_test contains the feature data (images) and y_test contains the corresponding labels. The test_dataset will now hold the preprocessed testing data, ready for evaluation or inference in PyTorch."
      ],
      "metadata": {
        "id": "RPcnCY-B5Jmu"
      }
    },
    {
      "cell_type": "code",
      "source": [
        "test_dataset=CustomDataset(x_test, y_test)"
      ],
      "metadata": {
        "id": "kieVf4mYmX02"
      },
      "execution_count": 93,
      "outputs": []
    },
    {
      "cell_type": "markdown",
      "source": [
        "This code creates data loaders for the training and testing datasets, with a batch size of 32. The training data is shuffled to ensure randomness during each epoch, while the testing data is not shuffled. Both loaders use pin_memory=True to optimize data transfer to the GPU, improving training and evaluation efficienc"
      ],
      "metadata": {
        "id": "hZK_6Li55Un-"
      }
    },
    {
      "cell_type": "code",
      "source": [
        "train_dataloader=DataLoader(train_dataset, batch_size=32, shuffle=True, pin_memory=True)\n",
        "test_dataloader=DataLoader(test_dataset, batch_size=32, shuffle=False, pin_memory=True)"
      ],
      "metadata": {
        "id": "vEpBOi4smbXD"
      },
      "execution_count": 94,
      "outputs": []
    },
    {
      "cell_type": "markdown",
      "source": [
        "The MyNN class defines a convolutional neural network (CNN) for Fashion MNIST classification. It consists of two convolutional layers with ReLU activation, batch normalization, and max-pooling for feature extraction, followed by fully connected layers with dropout for classification into 10 classes. The model is implemented using PyTorch's nn.Module."
      ],
      "metadata": {
        "id": "6N6EM0Cb5cL3"
      }
    },
    {
      "cell_type": "code",
      "source": [
        "import torch.nn as nn\n",
        "\n",
        "class MyNN(nn.Module):\n",
        "    def __init__(self, input_features):\n",
        "        super().__init__()\n",
        "        self.features = nn.Sequential(\n",
        "            nn.Conv2d(input_features, 32, kernel_size=3, padding='same'),\n",
        "            nn.ReLU(),\n",
        "            nn.BatchNorm2d(32),\n",
        "            nn.MaxPool2d(kernel_size=2, stride=2),\n",
        "            nn.Conv2d(32, 64, kernel_size=3, padding='same'),\n",
        "            nn.ReLU(),\n",
        "            nn.BatchNorm2d(64),\n",
        "            nn.MaxPool2d(kernel_size=2, stride=2),\n",
        "        )\n",
        "        self.classifier = nn.Sequential(\n",
        "            nn.Flatten(),\n",
        "            nn.Linear(64*7*7, 128),\n",
        "            nn.ReLU(),\n",
        "            nn.Dropout(p=0.4),\n",
        "            nn.Linear(128, 64),\n",
        "            nn.ReLU(),\n",
        "            nn.Dropout(p=0.4),\n",
        "            nn.Linear(64, 10)\n",
        "        )\n",
        "\n",
        "    def forward(self, x):\n",
        "        x = self.features(x)\n",
        "        x = self.classifier(x)\n",
        "        return x"
      ],
      "metadata": {
        "id": "iP109isToXuY"
      },
      "execution_count": 108,
      "outputs": []
    },
    {
      "cell_type": "code",
      "source": [
        "learning_rate=0.01\n",
        "epochs=100"
      ],
      "metadata": {
        "id": "BQ25lNlqul8H"
      },
      "execution_count": 109,
      "outputs": []
    },
    {
      "cell_type": "markdown",
      "source": [
        "This code initializes the MyNN model, moves it to the specified device (GPU), defines the loss function as cross-entropy loss for multi-class classification, and sets up the SGD optimizer with a learning rate and weight decay for regularization. It prepares the model for training."
      ],
      "metadata": {
        "id": "7kzrpzBm5l-q"
      }
    },
    {
      "cell_type": "code",
      "source": [
        "model=MyNN(1)\n",
        "model.to(device)\n",
        "criterian=nn.CrossEntropyLoss()\n",
        "optimizer=optim.SGD(model.parameters(), lr=learning_rate, weight_decay=1e-4)"
      ],
      "metadata": {
        "id": "JuBuas4Xuw5j"
      },
      "execution_count": 110,
      "outputs": []
    },
    {
      "cell_type": "markdown",
      "source": [
        "This code trains the model for a specified number of epochs, processing the data in batches. For each batch, it performs a forward pass, calculates the loss, and updates the model parameters using backpropagation and the optimizer. The average loss for each epoch is computed and printed after each epoch."
      ],
      "metadata": {
        "id": "l27_WBHA5vnx"
      }
    },
    {
      "cell_type": "code",
      "source": [
        "for epoch in range(epochs):\n",
        "\n",
        "  total_epoch_loss = 0\n",
        "\n",
        "  for batch_features, batch_labels in train_dataloader:\n",
        "\n",
        "    # move data to gpu\n",
        "    batch_features, batch_labels = batch_features.to(device), batch_labels.to(device)\n",
        "\n",
        "    # forward pass\n",
        "    outputs = model(batch_features)\n",
        "\n",
        "    # calculate loss\n",
        "    loss = criterian(outputs, batch_labels)\n",
        "\n",
        "    # back pass\n",
        "    optimizer.zero_grad()\n",
        "    loss.backward()\n",
        "\n",
        "    # update grads\n",
        "    optimizer.step()\n",
        "\n",
        "    total_epoch_loss = total_epoch_loss + loss.item()\n",
        "\n",
        "  avg_loss = total_epoch_loss/len(train_dataloader)\n",
        "  print(f'Epoch: {epoch + 1} , Loss: {avg_loss}')\n"
      ],
      "metadata": {
        "colab": {
          "base_uri": "https://localhost:8080/"
        },
        "id": "GWtvkTzKs7d4",
        "outputId": "21644120-6cd2-433c-d125-8e4aac48a94a"
      },
      "execution_count": 119,
      "outputs": [
        {
          "output_type": "stream",
          "name": "stdout",
          "text": [
            "Epoch: 1 , Loss: 0.03293826741738788\n",
            "Epoch: 2 , Loss: 0.02479970821470003\n",
            "Epoch: 3 , Loss: 0.024537116384579956\n",
            "Epoch: 4 , Loss: 0.02422976592506893\n",
            "Epoch: 5 , Loss: 0.014456629775146819\n",
            "Epoch: 6 , Loss: 0.016646389094275946\n",
            "Epoch: 7 , Loss: 0.01198623111782202\n",
            "Epoch: 8 , Loss: 0.008077507203622644\n",
            "Epoch: 9 , Loss: 0.005596801671000018\n",
            "Epoch: 10 , Loss: 0.010919937036941217\n",
            "Epoch: 11 , Loss: 0.007603481333905317\n",
            "Epoch: 12 , Loss: 0.002244807515529904\n",
            "Epoch: 13 , Loss: 0.00046453024568647073\n",
            "Epoch: 14 , Loss: 0.0002623856181773287\n",
            "Epoch: 15 , Loss: 0.00021089975822267585\n",
            "Epoch: 16 , Loss: 0.00018598517451253352\n",
            "Epoch: 17 , Loss: 0.0001702129869466944\n",
            "Epoch: 18 , Loss: 0.0001585852166741309\n",
            "Epoch: 19 , Loss: 0.00015101863814364453\n",
            "Epoch: 20 , Loss: 0.00014436564270664575\n",
            "Epoch: 21 , Loss: 0.00013880010654016434\n",
            "Epoch: 22 , Loss: 0.00013525322862640603\n",
            "Epoch: 23 , Loss: 0.0001324094673194433\n",
            "Epoch: 24 , Loss: 0.00012954657255344652\n",
            "Epoch: 25 , Loss: 0.00012761084803620786\n",
            "Epoch: 26 , Loss: 0.0001260803331462815\n",
            "Epoch: 27 , Loss: 0.00012500753214692394\n",
            "Epoch: 28 , Loss: 0.0001240251585700586\n",
            "Epoch: 29 , Loss: 0.0001233179341726706\n",
            "Epoch: 30 , Loss: 0.00012297952978489472\n",
            "Epoch: 31 , Loss: 0.00012242194544791118\n",
            "Epoch: 32 , Loss: 0.00012253202224667348\n",
            "Epoch: 33 , Loss: 0.0001226835952761197\n",
            "Epoch: 34 , Loss: 0.00012287296937201592\n",
            "Epoch: 35 , Loss: 0.00012311454595120115\n",
            "Epoch: 36 , Loss: 0.00012369825907652891\n",
            "Epoch: 37 , Loss: 0.00012410148738130526\n",
            "Epoch: 38 , Loss: 0.00012474585667880924\n",
            "Epoch: 39 , Loss: 0.00012516445686182464\n",
            "Epoch: 40 , Loss: 0.00012580947805215223\n",
            "Epoch: 41 , Loss: 0.00012699402360986294\n",
            "Epoch: 42 , Loss: 0.00012759232044292428\n",
            "Epoch: 43 , Loss: 0.00012844586566053334\n",
            "Epoch: 44 , Loss: 0.00012948876875558805\n",
            "Epoch: 45 , Loss: 0.00013006926120344057\n",
            "Epoch: 46 , Loss: 0.00013148275098311994\n",
            "Epoch: 47 , Loss: 0.00013242974805423912\n",
            "Epoch: 48 , Loss: 0.00013348373569807375\n",
            "Epoch: 49 , Loss: 0.00013442606889039628\n",
            "Epoch: 50 , Loss: 0.00013573801140614704\n",
            "Epoch: 51 , Loss: 0.000136320246374396\n",
            "Epoch: 52 , Loss: 0.00013780587658879996\n",
            "Epoch: 53 , Loss: 0.00013892653244973493\n",
            "Epoch: 54 , Loss: 0.00014013926235547085\n",
            "Epoch: 55 , Loss: 0.00014136585312326134\n",
            "Epoch: 56 , Loss: 0.00014246651688347355\n",
            "Epoch: 57 , Loss: 0.00014335843038725216\n",
            "Epoch: 58 , Loss: 0.0001444255352032542\n",
            "Epoch: 59 , Loss: 0.0001457897320125312\n",
            "Epoch: 60 , Loss: 0.0001467585276494295\n",
            "Epoch: 61 , Loss: 0.00014814896758987098\n",
            "Epoch: 62 , Loss: 0.0001490728559958067\n",
            "Epoch: 63 , Loss: 0.00015028925265928212\n",
            "Epoch: 64 , Loss: 0.00015127051594341387\n",
            "Epoch: 65 , Loss: 0.00015238901448168463\n",
            "Epoch: 66 , Loss: 0.00015356180391101285\n",
            "Epoch: 67 , Loss: 0.00015469168324436092\n",
            "Epoch: 68 , Loss: 0.00015586830823106841\n",
            "Epoch: 69 , Loss: 0.00015673547979205675\n",
            "Epoch: 70 , Loss: 0.00015796560671757712\n",
            "Epoch: 71 , Loss: 0.00015931220344399813\n",
            "Epoch: 72 , Loss: 0.00015991297167348268\n",
            "Epoch: 73 , Loss: 0.00016128896940252463\n",
            "Epoch: 74 , Loss: 0.0001622971122552978\n",
            "Epoch: 75 , Loss: 0.00016312372985718564\n",
            "Epoch: 76 , Loss: 0.00016463930984324785\n",
            "Epoch: 77 , Loss: 0.00016560089813920815\n",
            "Epoch: 78 , Loss: 0.0001660229576201194\n",
            "Epoch: 79 , Loss: 0.00016753290153057303\n",
            "Epoch: 80 , Loss: 0.00016866735046573922\n",
            "Epoch: 81 , Loss: 0.000169352992177816\n",
            "Epoch: 82 , Loss: 0.00017049966036067113\n",
            "Epoch: 83 , Loss: 0.0001718068157883863\n",
            "Epoch: 84 , Loss: 0.000172802692471123\n",
            "Epoch: 85 , Loss: 0.00017313812027562866\n",
            "Epoch: 86 , Loss: 0.00017473609065079168\n",
            "Epoch: 87 , Loss: 0.0001755516337584595\n",
            "Epoch: 88 , Loss: 0.00017639185097785532\n",
            "Epoch: 89 , Loss: 0.00017764397763388236\n",
            "Epoch: 90 , Loss: 0.000178295853717979\n",
            "Epoch: 91 , Loss: 0.00017924112314669097\n",
            "Epoch: 92 , Loss: 0.0001801852362489929\n",
            "Epoch: 93 , Loss: 0.00018063802776676615\n",
            "Epoch: 94 , Loss: 0.00018194712162932565\n",
            "Epoch: 95 , Loss: 0.00018257625951165817\n",
            "Epoch: 96 , Loss: 0.00018330881998736005\n",
            "Epoch: 97 , Loss: 0.0001839099215232333\n",
            "Epoch: 98 , Loss: 0.00018526935692959038\n",
            "Epoch: 99 , Loss: 0.0001858262197908213\n",
            "Epoch: 100 , Loss: 0.00018659167793953202\n"
          ]
        }
      ]
    },
    {
      "cell_type": "markdown",
      "source": [
        "The model.eval() function sets the model to evaluation mode. This is important because it disables certain layers like dropout and batch normalization, which behave differently during training and testing. It ensures the model performs in a consistent manner during inference or evaluation."
      ],
      "metadata": {
        "id": "QaiadR59509u"
      }
    },
    {
      "cell_type": "code",
      "source": [
        "model.eval()"
      ],
      "metadata": {
        "colab": {
          "base_uri": "https://localhost:8080/"
        },
        "id": "iUdi34jxuY5t",
        "outputId": "b675cbcc-4929-4e55-c42d-71315d3b9299"
      },
      "execution_count": 120,
      "outputs": [
        {
          "output_type": "execute_result",
          "data": {
            "text/plain": [
              "MyNN(\n",
              "  (features): Sequential(\n",
              "    (0): Conv2d(1, 32, kernel_size=(3, 3), stride=(1, 1), padding=same)\n",
              "    (1): ReLU()\n",
              "    (2): BatchNorm2d(32, eps=1e-05, momentum=0.1, affine=True, track_running_stats=True)\n",
              "    (3): MaxPool2d(kernel_size=2, stride=2, padding=0, dilation=1, ceil_mode=False)\n",
              "    (4): Conv2d(32, 64, kernel_size=(3, 3), stride=(1, 1), padding=same)\n",
              "    (5): ReLU()\n",
              "    (6): BatchNorm2d(64, eps=1e-05, momentum=0.1, affine=True, track_running_stats=True)\n",
              "    (7): MaxPool2d(kernel_size=2, stride=2, padding=0, dilation=1, ceil_mode=False)\n",
              "  )\n",
              "  (classifier): Sequential(\n",
              "    (0): Flatten(start_dim=1, end_dim=-1)\n",
              "    (1): Linear(in_features=3136, out_features=128, bias=True)\n",
              "    (2): ReLU()\n",
              "    (3): Dropout(p=0.4, inplace=False)\n",
              "    (4): Linear(in_features=128, out_features=64, bias=True)\n",
              "    (5): ReLU()\n",
              "    (6): Dropout(p=0.4, inplace=False)\n",
              "    (7): Linear(in_features=64, out_features=10, bias=True)\n",
              "  )\n",
              ")"
            ]
          },
          "metadata": {},
          "execution_count": 120
        }
      ]
    },
    {
      "cell_type": "markdown",
      "source": [
        "This code evaluates the model on the test data by predicting labels for each batch and comparing them to the true labels. It calculates the accuracy by counting the number of correct predictions and dividing it by the total number of samples. The result is printed as the model's test accuracy."
      ],
      "metadata": {
        "id": "_E2oSlZz58UG"
      }
    },
    {
      "cell_type": "code",
      "source": [
        "# evaluation on test data\n",
        "total = 0\n",
        "correct = 0\n",
        "\n",
        "with torch.no_grad():\n",
        "\n",
        "  for batch_features, batch_labels in test_dataloader:\n",
        "\n",
        "    # move data to gpu\n",
        "    batch_features, batch_labels = batch_features.to(device), batch_labels.to(device)\n",
        "\n",
        "    outputs = model(batch_features)\n",
        "\n",
        "    _, predicted = torch.max(outputs, 1)\n",
        "\n",
        "    total = total + batch_labels.shape[0]\n",
        "\n",
        "    correct = correct + (predicted == batch_labels).sum().item()\n",
        "\n",
        "print(correct/total)"
      ],
      "metadata": {
        "colab": {
          "base_uri": "https://localhost:8080/"
        },
        "id": "t_N8yarYzZmj",
        "outputId": "9eb4a7ba-ec76-4ae6-d74c-197265aace95"
      },
      "execution_count": 121,
      "outputs": [
        {
          "output_type": "stream",
          "name": "stdout",
          "text": [
            "0.9226666666666666\n"
          ]
        }
      ]
    },
    {
      "cell_type": "markdown",
      "source": [
        "This code evaluates the model on the training data by predicting labels for each batch and comparing them to the true labels. It calculates the accuracy by counting the number of correct predictions and dividing it by the total number of training samples. The result is printed as the model's training accuracy."
      ],
      "metadata": {
        "id": "fsENv20i6DLX"
      }
    },
    {
      "cell_type": "code",
      "source": [
        "# evaluation on training data\n",
        "total = 0\n",
        "correct = 0\n",
        "\n",
        "with torch.no_grad():\n",
        "\n",
        "  for batch_features, batch_labels in train_dataloader:\n",
        "\n",
        "    # move data to gpu\n",
        "    batch_features, batch_labels = batch_features.to(device), batch_labels.to(device)\n",
        "\n",
        "    outputs = model(batch_features)\n",
        "\n",
        "    _, predicted = torch.max(outputs, 1)\n",
        "\n",
        "    total = total + batch_labels.shape[0]\n",
        "\n",
        "    correct = correct + (predicted == batch_labels).sum().item()\n",
        "\n",
        "print(correct/total)"
      ],
      "metadata": {
        "colab": {
          "base_uri": "https://localhost:8080/"
        },
        "id": "gknEvXzwzdEF",
        "outputId": "5faf5ad2-c9e1-493d-d8b1-66388e4654bb"
      },
      "execution_count": 122,
      "outputs": [
        {
          "output_type": "stream",
          "name": "stdout",
          "text": [
            "1.0\n"
          ]
        }
      ]
    }
  ]
}